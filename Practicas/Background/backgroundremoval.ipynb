{
 "cells": [
  {
   "cell_type": "markdown",
   "id": "fcb169e7",
   "metadata": {},
   "source": [
    "# Practica: Quitar el fondo de las imágenes"
   ]
  },
  {
   "cell_type": "markdown",
   "id": "e2cc366f",
   "metadata": {},
   "source": [
    "Otra de las aplicaciones populares dentro de la **Visión por Computadora** es la de quitar el fondo de las imágenes.\n",
    "\n",
    "A lo largo del tiempo se han propuesto varias técnicas para lograr esto. Como veremos en esta práctica, la mayoría de técnicas tienen sus limitantes y no existe aún una solución universal para esto. Incluso las soluciones con las que cuentan Canva o Photoshop tiene sus limitantes y depende del usuario para realizar la tarea.\n",
    "\n",
    "En esta práctica exploraremos tres técnicas 'clásicas': binarización, método de Otsu y *thresholding*."
   ]
  },
  {
   "cell_type": "markdown",
   "id": "c090a4ce",
   "metadata": {},
   "source": [
    "Como en todas las prácticas, comenzaremos por importar las librerías necesarias para trabajar."
   ]
  },
  {
   "cell_type": "code",
   "execution_count": 1,
   "id": "e3baf85b",
   "metadata": {},
   "outputs": [],
   "source": [
    "import cv2\n",
    "import numpy as np\n",
    "import matplotlib.pyplot as plt\n",
    "import os"
   ]
  },
  {
   "cell_type": "code",
   "execution_count": 2,
   "id": "f5f23be5",
   "metadata": {},
   "outputs": [
    {
     "ename": "FileNotFoundError",
     "evalue": "No se pudo cargar la imagen. Verifica la ruta.",
     "output_type": "error",
     "traceback": [
      "\u001b[1;31m---------------------------------------------------------------------------\u001b[0m",
      "\u001b[1;31mFileNotFoundError\u001b[0m                         Traceback (most recent call last)",
      "\u001b[1;32m<ipython-input-2-d36bee952d40>\u001b[0m in \u001b[0;36m<module>\u001b[1;34m\u001b[0m\n\u001b[0;32m      2\u001b[0m \u001b[0mimagen\u001b[0m \u001b[1;33m=\u001b[0m \u001b[0mcv2\u001b[0m\u001b[1;33m.\u001b[0m\u001b[0mimread\u001b[0m\u001b[1;33m(\u001b[0m\u001b[1;34m'/content/Removal_Background.jpg'\u001b[0m\u001b[1;33m)\u001b[0m\u001b[1;33m\u001b[0m\u001b[1;33m\u001b[0m\u001b[0m\n\u001b[0;32m      3\u001b[0m \u001b[1;32mif\u001b[0m \u001b[0mimagen\u001b[0m \u001b[1;32mis\u001b[0m \u001b[1;32mNone\u001b[0m\u001b[1;33m:\u001b[0m\u001b[1;33m\u001b[0m\u001b[1;33m\u001b[0m\u001b[0m\n\u001b[1;32m----> 4\u001b[1;33m     \u001b[1;32mraise\u001b[0m \u001b[0mFileNotFoundError\u001b[0m\u001b[1;33m(\u001b[0m\u001b[1;34m\"No se pudo cargar la imagen. Verifica la ruta.\"\u001b[0m\u001b[1;33m)\u001b[0m\u001b[1;33m\u001b[0m\u001b[1;33m\u001b[0m\u001b[0m\n\u001b[0m",
      "\u001b[1;31mFileNotFoundError\u001b[0m: No se pudo cargar la imagen. Verifica la ruta."
     ]
    }
   ],
   "source": [
    "# Cargar la imagen\n",
    "imagen = cv2.imread('/content/Removal_Background.jpg')\n",
    "if imagen is None:\n",
    "    raise FileNotFoundError(\"No se pudo cargar la imagen. Verifica la ruta.\")"
   ]
  },
  {
   "cell_type": "code",
   "execution_count": null,
   "id": "52bd2dad",
   "metadata": {},
   "outputs": [],
   "source": [
    "# Convertir a HSV\n",
    "imagen_hsv = cv2.cvtColor(imagen, cv2.COLOR_BGR2HSV)"
   ]
  },
  {
   "cell_type": "code",
   "execution_count": null,
   "id": "7e400e15",
   "metadata": {},
   "outputs": [],
   "source": [
    "# Crear dos rangos para detectar el color rojo\n",
    "# Rojo oscuro\n",
    "rojo_bajo1 = np.array([0, 100, 100])\n",
    "rojo_alto1 = np.array([10, 255, 255])"
   ]
  },
  {
   "cell_type": "code",
   "execution_count": null,
   "id": "e290e57a",
   "metadata": {},
   "outputs": [],
   "source": [
    "# Rojo claro\n",
    "rojo_bajo2 = np.array([160, 100, 100])\n",
    "rojo_alto2 = np.array([180, 255, 255])"
   ]
  },
  {
   "cell_type": "code",
   "execution_count": null,
   "id": "8bed9c6b",
   "metadata": {},
   "outputs": [],
   "source": [
    "# Crear dos máscaras y combinarlas\n",
    "mascara1 = cv2.inRange(imagen_hsv, rojo_bajo1, rojo_alto1)\n",
    "mascara2 = cv2.inRange(imagen_hsv, rojo_bajo2, rojo_alto2)\n",
    "mascara_rojo = cv2.bitwise_or(mascara1, mascara2)"
   ]
  },
  {
   "cell_type": "code",
   "execution_count": null,
   "id": "135197bd",
   "metadata": {},
   "outputs": [],
   "source": [
    "# Invertimos la máscara para quedarnos con el objeto\n",
    "mascara_invertida = cv2.bitwise_not(mascara_rojo)"
   ]
  },
  {
   "cell_type": "code",
   "execution_count": null,
   "id": "c7b39b54",
   "metadata": {},
   "outputs": [],
   "source": [
    "# Aplicar máscara a la imagen original\n",
    "resultado = cv2.bitwise_and(imagen, imagen, mask=mascara_invertida)"
   ]
  },
  {
   "cell_type": "code",
   "execution_count": null,
   "id": "8c3b7da8",
   "metadata": {},
   "outputs": [],
   "source": [
    "# Mostrar resultados\n",
    "cv2.imshow('Original', imagen)\n",
    "cv2.imshow('Sin fondo rojo', resultado)\n",
    "cv2.waitKey(0)\n",
    "cv2.destroyAllWindows()\n",
    "\n",
    "# Guardar el resultado si lo deseas\n",
    "# cv2.imwrite('resultado_sin_fondo.jpg', resultado)"
   ]
  },
  {
   "cell_type": "code",
   "execution_count": null,
   "id": "423779e3",
   "metadata": {},
   "outputs": [],
   "source": []
  },
  {
   "cell_type": "code",
   "execution_count": null,
   "id": "d490e076",
   "metadata": {},
   "outputs": [],
   "source": []
  }
 ],
 "metadata": {
  "kernelspec": {
   "display_name": "tensorflow1",
   "language": "python",
   "name": "python3"
  },
  "language_info": {
   "codemirror_mode": {
    "name": "ipython",
    "version": 3
   },
   "file_extension": ".py",
   "mimetype": "text/x-python",
   "name": "python",
   "nbconvert_exporter": "python",
   "pygments_lexer": "ipython3",
   "version": "3.8.5"
  }
 },
 "nbformat": 4,
 "nbformat_minor": 5
}

{
 "cells": [
  {
   "cell_type": "markdown",
   "id": "fcb169e7",
   "metadata": {},
   "source": [
    "# Practica: Quitar el fondo de las imágenes"
   ]
  },
  {
   "cell_type": "markdown",
   "id": "e2cc366f",
   "metadata": {},
   "source": [
    "Otra de las aplicaciones populares dentro de la **Visión por Computadora** es la de quitar el fondo de las imágenes.\n",
    "\n",
    "A lo largo del tiempo se han propuesto varias técnicas para lograr esto. Como veremos en esta práctica, la mayoría de técnicas tienen sus limitantes y no existe aún una solución universal para esto. Incluso las soluciones con las que cuentan Canva o Photoshop tiene sus limitantes y depende del usuario para realizar la tarea.\n",
    "\n",
    "En esta práctica exploraremos tres técnicas 'clásicas': binarización, método de Otsu y *thresholding*."
   ]
  },
  {
   "cell_type": "markdown",
   "id": "c090a4ce",
   "metadata": {},
   "source": [
    "Como en todas las prácticas, comenzaremos por importar las librerías necesarias para trabajar."
   ]
  },
  {
   "cell_type": "code",
   "execution_count": null,
   "id": "e3baf85b",
   "metadata": {},
   "outputs": [],
   "source": [
    "import cv2 as cv\n",
    "import numpy as np\n",
    "import matplotlib.pyplot as plt\n",
    "import os"
   ]
  },
  {
   "cell_type": "markdown",
   "id": "8804a8e4",
   "metadata": {},
   "source": [
    "## Binarización"
   ]
  },
  {
   "cell_type": "markdown",
   "id": "d68a36e0",
   "metadata": {},
   "source": [
    "La técnica de binarización consiste en..."
   ]
  },
  {
   "cell_type": "code",
   "execution_count": null,
   "id": "f5f23be5",
   "metadata": {},
   "outputs": [],
   "source": []
  },
  {
   "cell_type": "code",
   "execution_count": null,
   "id": "52bd2dad",
   "metadata": {},
   "outputs": [],
   "source": []
  },
  {
   "cell_type": "code",
   "execution_count": null,
   "id": "7e400e15",
   "metadata": {},
   "outputs": [],
   "source": []
  },
  {
   "cell_type": "code",
   "execution_count": null,
   "id": "e290e57a",
   "metadata": {},
   "outputs": [],
   "source": []
  },
  {
   "cell_type": "code",
   "execution_count": null,
   "id": "8bed9c6b",
   "metadata": {},
   "outputs": [],
   "source": []
  },
  {
   "cell_type": "code",
   "execution_count": null,
   "id": "135197bd",
   "metadata": {},
   "outputs": [],
   "source": []
  },
  {
   "cell_type": "code",
   "execution_count": null,
   "id": "c7b39b54",
   "metadata": {},
   "outputs": [],
   "source": []
  }
 ],
 "metadata": {
  "kernelspec": {
   "display_name": "tensorflow1",
   "language": "python",
   "name": "python3"
  },
  "language_info": {
   "codemirror_mode": {
    "name": "ipython",
    "version": 3
   },
   "file_extension": ".py",
   "mimetype": "text/x-python",
   "name": "python",
   "nbconvert_exporter": "python",
   "pygments_lexer": "ipython3",
   "version": "3.8.5"
  }
 },
 "nbformat": 4,
 "nbformat_minor": 5
}

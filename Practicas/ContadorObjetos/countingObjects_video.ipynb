{
 "cells": [
  {
   "cell_type": "code",
   "execution_count": null,
   "id": "56cd8a9e",
   "metadata": {},
   "outputs": [],
   "source": [
    "# Importat librerías necesarias\n",
    "import cv2\n",
    "import math\n",
    "import numpy as np\n",
    "import matplotlib.pyplot as plt"
   ]
  },
  {
   "cell_type": "code",
   "execution_count": null,
   "id": "3622b0f2",
   "metadata": {},
   "outputs": [],
   "source": [
    "# Definir la clase EuclideanDisTracker para medir la distancia entre los objetos\n",
    "class EuclideanDistTracker:\n",
    "    def __init__(self):\n",
    "        # Almacena los centros de cada objeto detectado\n",
    "        self.center_points = {}\n",
    "        # Contador para asignar IDs únicos\n",
    "        self.id_count = 0\n",
    "\n",
    "    def update(self, objects_rect):\n",
    "        \"\"\"\n",
    "        Recibe una lista de bounding boxes [x, y, w, h] y devuelve\n",
    "        la misma lista con un ID asignado a cada objeto: [x, y, w, h, id].\n",
    "        \"\"\"\n",
    "        objects_bbs_ids = []\n",
    "\n",
    "        # Para cada rectángulo, calcular su centro\n",
    "        for rect in objects_rect:\n",
    "            x, y, w, h = rect\n",
    "            cx = (x + x + w) // 2\n",
    "            cy = (y + y + h) // 2\n",
    "\n",
    "            # Buscar si ya tenemos un objeto cercano (distancia < 25 píxeles)\n",
    "            same_object_detected = False\n",
    "            for object_id, pt in self.center_points.items():\n",
    "                dist = math.hypot(cx - pt[0], cy - pt[1])\n",
    "                if dist < 25:\n",
    "                    # Actualizar centro y conservar el mismo ID\n",
    "                    self.center_points[object_id] = (cx, cy)\n",
    "                    objects_bbs_ids.append([x, y, w, h, object_id])\n",
    "                    same_object_detected = True\n",
    "                    break\n",
    "\n",
    "            # Si no se encontró ninguno cercano, es un objeto nuevo\n",
    "            if not same_object_detected:\n",
    "                self.center_points[self.id_count] = (cx, cy)\n",
    "                objects_bbs_ids.append([x, y, w, h, self.id_count])\n",
    "                self.id_count += 1\n",
    "\n",
    "        # Limpiar IDs que ya no están presentes\n",
    "        new_center_points = {}\n",
    "        for _, _, _, _, object_id in objects_bbs_ids:\n",
    "            new_center_points[object_id] = self.center_points[object_id]\n",
    "        self.center_points = new_center_points.copy()\n",
    "\n",
    "        return objects_bbs_ids"
   ]
  },
  {
   "cell_type": "code",
   "execution_count": null,
   "id": "6adb44f2",
   "metadata": {},
   "outputs": [],
   "source": [
    "# Configuración de captura de video y detector de fondo\n",
    "tracker = EuclideanDistTracker()\n",
    "cap = cv2.VideoCapture(\"highway.mp4\")\n",
    "\n",
    "# Utilizaremos un detector de fondo tipo MOG2 para extraer el fondo del video\n",
    "object_detector = cv2.createrBackgroundSubtractorMOG2(history=100, varThreshold=40)\n"
   ]
  },
  {
   "cell_type": "code",
   "execution_count": null,
   "id": "cf4fb209",
   "metadata": {},
   "outputs": [],
   "source": [
    "# Aqui es donde comenzaremos la detección y el seguimiento de los objetos con la cámara\n",
    "while True:\n",
    "    ret, frame = cap.read()\n",
    "    if not ret:\n",
    "        break # Terminamos si no hay frames que procesar/leer\n",
    "\n",
    "    # A diferencia de la imagen, ahora buscaremos objetos en un área en especifico o zona de interes (ROI)\n",
    "    roi = frame[340:720, 500:800]\n",
    "\n",
    "    # Detección de objetos con sustracción de fondo\n",
    "    mask = object_detector.apply(roi)\n",
    "    _, mask = cv2.threshold(mask, 254, 255, cv2.THRESH_BINARY)\n",
    "    contours, _ = cv2.findContours(mask, cv2.RETR_TREE, cv2.CHAIN_APPROX_SIMPLE)\n",
    "\n",
    "    detections = []\n",
    "    \n",
    "    for cnt in contours:\n",
    "        area = cv2.contourArea(cnt)\n",
    "        if area > 100:\n",
    "            x,y,w,h = cv2.boundingRect(cnt)\n",
    "            detections.append([x,y,w,h])\n",
    "\n",
    "    "
   ]
  },
  {
   "cell_type": "code",
   "execution_count": null,
   "id": "25bfbb73",
   "metadata": {},
   "outputs": [],
   "source": []
  },
  {
   "cell_type": "code",
   "execution_count": null,
   "id": "dc2ceeb4",
   "metadata": {},
   "outputs": [],
   "source": []
  },
  {
   "cell_type": "code",
   "execution_count": null,
   "id": "88d2f4d8",
   "metadata": {},
   "outputs": [],
   "source": []
  },
  {
   "cell_type": "code",
   "execution_count": null,
   "id": "5e2e4a1d",
   "metadata": {},
   "outputs": [],
   "source": []
  }
 ],
 "metadata": {
  "language_info": {
   "name": "python"
  }
 },
 "nbformat": 4,
 "nbformat_minor": 5
}

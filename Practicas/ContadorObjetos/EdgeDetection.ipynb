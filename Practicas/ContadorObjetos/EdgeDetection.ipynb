{
 "cells": [
  {
   "cell_type": "code",
   "execution_count": 17,
   "id": "1474bc2a",
   "metadata": {},
   "outputs": [],
   "source": [
    "import cv2\n",
    "import numpy as np"
   ]
  },
  {
   "cell_type": "code",
   "execution_count": 18,
   "id": "5f71154c",
   "metadata": {},
   "outputs": [],
   "source": [
    "# Cargar la imagen\n",
    "img = cv2.imread('hoja.jpg') # cambien la extension de la imagen de ser necesario\n",
    "gray = cv2.cvtColor(img, cv2.COLOR_BGR2GRAY)"
   ]
  },
  {
   "cell_type": "code",
   "execution_count": 19,
   "id": "20697694",
   "metadata": {},
   "outputs": [],
   "source": [
    "# 2) Suavizado para reducir ruido\n",
    "blur = cv2.GaussianBlur(gray, (5, 5), 0)"
   ]
  },
  {
   "cell_type": "code",
   "execution_count": 20,
   "id": "7fb956a0",
   "metadata": {},
   "outputs": [],
   "source": [
    "# 3) Detección de bordes con Canny\n",
    "edges = cv2.Canny(blur, 50, 150)"
   ]
  },
  {
   "cell_type": "code",
   "execution_count": 21,
   "id": "96a2add5",
   "metadata": {},
   "outputs": [],
   "source": [
    "# 4) Cierre morfológico para unir trazos de cada letra\n",
    "kernel = cv2.getStructuringElement(cv2.MORPH_RECT, (3, 3))\n",
    "closed = cv2.morphologyEx(edges, cv2.MORPH_CLOSE, kernel, iterations=1)"
   ]
  },
  {
   "cell_type": "code",
   "execution_count": 22,
   "id": "ee17258f",
   "metadata": {},
   "outputs": [],
   "source": [
    "# 5) Encontrar contornos (letras potenciales)\n",
    "contours, _ = cv2.findContours(closed, cv2.RETR_EXTERNAL, cv2.CHAIN_APPROX_SIMPLE)"
   ]
  },
  {
   "cell_type": "code",
   "execution_count": 23,
   "id": "bef94320",
   "metadata": {},
   "outputs": [],
   "source": [
    "# 6) Filtrar y dibujar rectángulos alrededor de las letras\n",
    "for cnt in contours:\n",
    "    x, y, w, h = cv2.boundingRect(cnt)\n",
    "    # Filtrar por tamaño mínimo (ajusta según tu imagen)\n",
    "    if w > 10 and h > 20:\n",
    "        cv2.rectangle(img, (x, y), (x + w, y + h), (0, 255, 0), 2)"
   ]
  },
  {
   "cell_type": "code",
   "execution_count": 24,
   "id": "b0132667",
   "metadata": {},
   "outputs": [],
   "source": [
    "# 7) Mostrar resultados\n",
    "cv2.imshow('Bordes Canny', edges)\n",
    "cv2.imshow('Letras Detectadas', img)\n",
    "cv2.waitKey(0)\n",
    "cv2.destroyAllWindows()"
   ]
  },
  {
   "cell_type": "markdown",
   "id": "8174cc2c",
   "metadata": {},
   "source": [
    "# Trabajo adicional\n",
    "Prueben con distintas palabras o textos haber que resultados tienen.\n",
    "\n",
    "También pueden incluso escribir en otros idiomas para ver si su algoritmo funciona igual."
   ]
  },
  {
   "cell_type": "code",
   "execution_count": null,
   "id": "bd90b7b7",
   "metadata": {},
   "outputs": [],
   "source": []
  },
  {
   "cell_type": "code",
   "execution_count": null,
   "id": "1cd77f45",
   "metadata": {},
   "outputs": [],
   "source": []
  },
  {
   "cell_type": "code",
   "execution_count": null,
   "id": "c5d09dd5",
   "metadata": {},
   "outputs": [],
   "source": []
  }
 ],
 "metadata": {
  "kernelspec": {
   "display_name": "tensorflow1",
   "language": "python",
   "name": "python3"
  },
  "language_info": {
   "codemirror_mode": {
    "name": "ipython",
    "version": 3
   },
   "file_extension": ".py",
   "mimetype": "text/x-python",
   "name": "python",
   "nbconvert_exporter": "python",
   "pygments_lexer": "ipython3",
   "version": "3.8.5"
  }
 },
 "nbformat": 4,
 "nbformat_minor": 5
}

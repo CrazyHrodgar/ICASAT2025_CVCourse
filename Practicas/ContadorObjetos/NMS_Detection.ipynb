{
 "cells": [
  {
   "cell_type": "code",
   "execution_count": 6,
   "id": "9a007d6f",
   "metadata": {},
   "outputs": [],
   "source": [
    "import cv2\n",
    "import numpy as np\n",
    "import os"
   ]
  },
  {
   "cell_type": "code",
   "execution_count": 7,
   "id": "0412fe10",
   "metadata": {},
   "outputs": [],
   "source": [
    "# Callback “vacío” para los trackbars\n",
    "def nothing(x):\n",
    "    pass"
   ]
  },
  {
   "cell_type": "code",
   "execution_count": 8,
   "id": "62a9523e",
   "metadata": {},
   "outputs": [],
   "source": [
    "# --- Configuración de ventana y trackbars para ROI ---\n",
    "cv2.namedWindow('Detección con NMS')\n",
    "\n",
    "# Crear sliders: X, Y, W, H\n",
    "cv2.createTrackbar('X', 'Detección con NMS', 0, 1280, nothing)\n",
    "cv2.createTrackbar('Y', 'Detección con NMS', 0, 720, nothing)\n",
    "cv2.createTrackbar('W', 'Detección con NMS', 500, 1280, nothing)\n",
    "cv2.createTrackbar('H', 'Detección con NMS', 300, 720, nothing)"
   ]
  },
  {
   "cell_type": "code",
   "execution_count": 9,
   "id": "308f8c1c",
   "metadata": {},
   "outputs": [],
   "source": [
    "# --- Inicializar vídeo y sustractor de fondo ---\n",
    "cap = cv2.VideoCapture('highway.mp4')\n",
    "object_sub = cv2.createBackgroundSubtractorMOG2(history=100, varThreshold=50)\n",
    "\n",
    "while True:\n",
    "    ret, frame = cap.read()\n",
    "    if not ret:\n",
    "        break\n",
    "\n",
    "    # Leer parámetros de la ROI desde los sliders\n",
    "    x = cv2.getTrackbarPos('X', 'Detección con NMS')\n",
    "    y = cv2.getTrackbarPos('Y', 'Detección con NMS')\n",
    "    w = cv2.getTrackbarPos('W', 'Detección con NMS')\n",
    "    h = cv2.getTrackbarPos('H', 'Detección con NMS')\n",
    "\n",
    "    # Asegurar que la ROI quede dentro de los límites del frame\n",
    "    x = min(max(x, 0), frame.shape[1] - 1)\n",
    "    y = min(max(y, 0), frame.shape[0] - 1)\n",
    "    w = min(w, frame.shape[1] - x)\n",
    "    h = min(h, frame.shape[0] - y)\n",
    "\n",
    "    # Extraer ROI\n",
    "    roi = frame[y:y+h, x:x+w]\n",
    "\n",
    "    # 1) Detectar movimiento en la ROI\n",
    "    mask = object_sub.apply(roi)\n",
    "    _, mask = cv2.threshold(mask, 254, 255, cv2.THRESH_BINARY)\n",
    "    \n",
    "    # 2) Encontrar contornos y generar bounding boxes + scores (área)\n",
    "    contours, _ = cv2.findContours(mask, cv2.RETR_EXTERNAL, cv2.CHAIN_APPROX_SIMPLE)\n",
    "    boxes, scores = [], []\n",
    "    for cnt in contours:\n",
    "        area = cv2.contourArea(cnt)\n",
    "        if area < 500:  # Filtrar ruido pequeño\n",
    "            continue\n",
    "        bx, by, bw, bh = cv2.boundingRect(cnt)\n",
    "        # Convertir coordenadas de ROI a coordenadas globales\n",
    "        boxes.append([bx + x, by + y, bw, bh])\n",
    "        scores.append(float(area))\n",
    "\n",
    "    # 3) Aplicar NMS\n",
    "    indices = []\n",
    "    if len(boxes) > 0:\n",
    "        indices = cv2.dnn.NMSBoxes(boxes, scores,\n",
    "                                  score_threshold=0.0,\n",
    "                                  nms_threshold=0.4)\n",
    "    \n",
    "    # 4) Dibujar resultados\n",
    "    # - Dibujar ROI en azul\n",
    "    cv2.rectangle(frame, (x, y), (x + w, y + h), (255, 0, 0), 2)\n",
    "    # - Dibujar todas las detecciones retenidas por NMS en verde\n",
    "    if len(indices) > 0:\n",
    "        for i in indices.flatten():\n",
    "            bx, by, bw, bh = boxes[i]\n",
    "            cv2.rectangle(frame, (bx, by), (bx + bw, by + bh), (0, 255, 0), 2)\n",
    "\n",
    "    # Mostrar frame resultante\n",
    "    cv2.imshow('Detección con NMS', frame)\n",
    "\n",
    "    # Salir con ESC\n",
    "    if cv2.waitKey(30) == 27:\n",
    "        break\n",
    "\n",
    "cap.release()\n",
    "cv2.destroyAllWindows()"
   ]
  }
 ],
 "metadata": {
  "kernelspec": {
   "display_name": "py12",
   "language": "python",
   "name": "python3"
  },
  "language_info": {
   "codemirror_mode": {
    "name": "ipython",
    "version": 3
   },
   "file_extension": ".py",
   "mimetype": "text/x-python",
   "name": "python",
   "nbconvert_exporter": "python",
   "pygments_lexer": "ipython3",
   "version": "3.12.1"
  }
 },
 "nbformat": 4,
 "nbformat_minor": 5
}

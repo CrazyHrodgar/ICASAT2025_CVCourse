{
 "cells": [
  {
   "cell_type": "markdown",
   "id": "5c9816e6",
   "metadata": {},
   "source": [
    "# Contando objetos en una imagen con OpenCV"
   ]
  },
  {
   "cell_type": "markdown",
   "id": "7c7cb275",
   "metadata": {},
   "source": [
    "En esta práctica aprenderemos los pasos básicos del proceso de contar objetos en una imagen estática.\n",
    "\n",
    "La metodología de este ejercicio es parecido a otras prácticas que hemos realizado en el curso: leer la imagen, aplicar algún preprocesamiento, realizar la segmentación de los objetos y, por último, hacer la detección.\n",
    "\n",
    "Una vez terminada la práctica puede expandir la aplicación para usarla en video, utilizar filtros más avanzados para mejorar el desempeño, etc."
   ]
  },
  {
   "cell_type": "code",
   "execution_count": 1,
   "id": "407c6b41",
   "metadata": {},
   "outputs": [],
   "source": [
    "# Importamos las librerías necesarias\n",
    "import numpy as np\n",
    "import matplotlib.pyplot as plt\n",
    "# !pip install opencv-python # en caso de que no tengan instalado opencv\n",
    "import cv2 as cv"
   ]
  },
  {
   "cell_type": "code",
   "execution_count": 2,
   "id": "f7998a68",
   "metadata": {},
   "outputs": [
    {
     "data": {
      "text/plain": [
       "'4.11.0'"
      ]
     },
     "execution_count": 2,
     "metadata": {},
     "output_type": "execute_result"
    }
   ],
   "source": [
    "# Comprobamos que tengamos instalado OpenCV\n",
    "cv.__version__"
   ]
  },
  {
   "cell_type": "markdown",
   "id": "67660772",
   "metadata": {},
   "source": [
    "Como estaremos trabajando y experimentando un poco con valores, crearemos una función de Python llamada `countObjects()`"
   ]
  },
  {
   "cell_type": "code",
   "execution_count": 3,
   "id": "2779ec43",
   "metadata": {},
   "outputs": [],
   "source": [
    "def countObjects(path, minimum_area=100):\n",
    "    \"\"\"\n",
    "    Carga la imagen desde la computadora y cuenta los objetos basados en contornos.\n",
    "\n",
    "    Parámetros:\n",
    "    - path --> ruta de la imagen en la computadora (str)\n",
    "    - minimum_area --> área mínima del contorno (int)\n",
    "    Regresa:\n",
    "    - count: número de objetos detectados\n",
    "    - output: imagen original con los contornos dibujados\n",
    "    \"\"\" \n",
    "    # Creamos una variable image que tendrá la dirección a una imagen en la pc\n",
    "    image = cv.imread(path)\n",
    "\n",
    "    # Comprobamos que la imagen exista\n",
    "    if image is None:\n",
    "        raise FileNotFoundError(f\"No se pudo cargar la imagen en '{path}'\")\n",
    "    \n",
    "    # Convertir la imagen a escala de grises\n",
    "    gray = cv.cvtColor(image, cv.COLOR_BGR2GRAY)\n",
    "\n",
    "    # Suavizamos un poco la imagen para reducir el ruido en la imagen\n",
    "    blurred = cv.GaussianBlur(gray, (5,5), 0)\n",
    "\n",
    "    # El siguiente paso es realizar la umbralización binaria inversa\n",
    "    # es decir, los objetos más oscuros que el fondo pasaran a blanco (255)\n",
    "    # Ajustar el valor de acuerdo con la imagen\n",
    "    _, thresh = cv.threshold(blurred, 60, 255, cv.THRESH_BINARY_INV)\n",
    "\n",
    "    # Extraer los contornos de la imagen\n",
    "    contours, _ = cv.findContours(\n",
    "        thresh.copy(), # creamos una copia de la imagen thresh\n",
    "        cv.RETR_EXTERNAL,\n",
    "        cv.CHAIN_APPROX_SIMPLE\n",
    "    )\n",
    "\n",
    "    # Dibujar los contornos encontrados y contar\n",
    "    output = image.copy() # Creamos una copia de la imagen image\n",
    "    count = 0 # Establecemos el contador en cero\n",
    "    # Creamos un ciclo for para encontrar y contar todos los contornos\n",
    "    for cnt in contours:\n",
    "        area = cv.contourArea(cnt)\n",
    "        # Si el contorno no pasa el limite mínimo se omite\n",
    "        if area < minimum_area:\n",
    "            continue\n",
    "\n",
    "        count += 1\n",
    "        # Dibujamos un bounding box para cada objeto encontrado\n",
    "        x, y, w, h = cv.boundingRect(cnt)\n",
    "        # Establecer el color verde para el rectangulo\n",
    "        cv.rectangle(output, (x,y), (x+w, y+h), (0,255,0), 2)\n",
    "        # Poner etiqeta sobre el objeto\n",
    "        cv.putText(\n",
    "            output,\n",
    "            f'Obj {count}',\n",
    "            (x, y-10),\n",
    "            cv.FONT_HERSHEY_SIMPLEX,\n",
    "            0.5, # tamaño de la fuente\n",
    "            (0,255,0), # color verde\n",
    "            2, # grosor de la fuente\n",
    "        )\n",
    "\n",
    "    return count, output"
   ]
  },
  {
   "cell_type": "markdown",
   "id": "0517003f",
   "metadata": {},
   "source": [
    "Si todo sale bien, cuando ejectuen las siguientes lineas de código, deberían de ver la imagen original con los contornos dibujados en ella, así como los objetos detectados dentro de la imagen."
   ]
  },
  {
   "cell_type": "code",
   "execution_count": null,
   "id": "25e0be6f",
   "metadata": {},
   "outputs": [],
   "source": [
    "# Leer las imagenes dentro de la carpeta\n",
    "# image = 'coins.jpg'\n",
    "image = 'clips.jpg'"
   ]
  },
  {
   "cell_type": "code",
   "execution_count": null,
   "id": "4331b3a0",
   "metadata": {},
   "outputs": [
    {
     "name": "stdout",
     "output_type": "stream",
     "text": [
      "Numero total de objetos detectados: 3\n"
     ]
    },
    {
     "ename": "",
     "evalue": "",
     "output_type": "error",
     "traceback": [
      "\u001b[1;31mThe Kernel crashed while executing code in the current cell or a previous cell. \n",
      "\u001b[1;31mPlease review the code in the cell(s) to identify a possible cause of the failure. \n",
      "\u001b[1;31mClick <a href='https://aka.ms/vscodeJupyterKernelCrash'>here</a> for more info. \n",
      "\u001b[1;31mView Jupyter <a href='command:jupyter.viewOutput'>log</a> for further details."
     ]
    }
   ],
   "source": [
    "# Probar la función con la imagen 1\n",
    "objetos, img_result = countObjects(image)\n",
    "print(f\"Numero total de objetos detectados: {objetos}\")\n",
    "\n",
    "# Mostrar la imagen con los contornos\n",
    "cv.imshow(\"Objetos contados\", img_result)\n",
    "cv.waitKey(0)\n",
    "cv.destroyAllWindows()"
   ]
  },
  {
   "cell_type": "markdown",
   "id": "ac9fc218",
   "metadata": {},
   "source": [
    "Si experimentan con otro tipo de imágenes u objetos como monedas o piezas de ajedrez comenzaran a notar que el programa no funciona de la mejor manera. En muchos casos, los contornos detectados serán muy pequeños que, aunque el valor de `minimum_area` sea 0, no se podrán encontrar contornos.\n",
    "\n",
    "Esto se debe a muchos factores como oclusión, solapamiento, contraste de la imagen bajo, el fondo de la imagen, entre otros. Uno de los principales es que usamos un **valor de umbral fijo**. El tener un valor fijo deriva en que el programa no se *adapta* al contexto de la imagen o a las condiciones en las que se tomo la imagen.\n",
    "\n",
    "En este caso, nosotros trabajamos sobre una imagen por lo que tenemos esa *libertad* de poder ajustarnos a las condiciones a través de experimentar y ajustar los valores de umbralización. Sin embargo, si nos enfrentaramos a un video (una imagen cambiante por así decirlo) no podríamos estar ajustando en cada momento los valores. Actualmente, se han desarrollado nuevas metodologías, distintos tipos de filtros y transformaciónes para llegar a una \"solución universal\". La IA por ejemplo ha mostrado resultados interesantes y prometedores, pero eso es tema, quizá, para otro curso."
   ]
  }
 ],
 "metadata": {
  "kernelspec": {
   "display_name": "py12",
   "language": "python",
   "name": "python3"
  },
  "language_info": {
   "codemirror_mode": {
    "name": "ipython",
    "version": 3
   },
   "file_extension": ".py",
   "mimetype": "text/x-python",
   "name": "python",
   "nbconvert_exporter": "python",
   "pygments_lexer": "ipython3",
   "version": "3.12.1"
  }
 },
 "nbformat": 4,
 "nbformat_minor": 5
}

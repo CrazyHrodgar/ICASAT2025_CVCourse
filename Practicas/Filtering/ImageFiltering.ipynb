{
 "cells": [
  {
   "cell_type": "markdown",
   "id": "d3b95daf",
   "metadata": {},
   "source": [
    "# Aplicando filtros a imágenes"
   ]
  },
  {
   "cell_type": "markdown",
   "id": "9a53a669",
   "metadata": {},
   "source": [
    "Hoy en día los filtros de imágenes son algo bastante popular, desde el filtro de perrito de Snapchat, hasta los filtros que te dicen a qué famoso te pareces.\n",
    "\n",
    "Aunque en esta práctica no llegaremos a ese nivel de filtros, vamos a conocer los fundamentos del filtrado de imágenes y exploraremos algunos de los mas famosos de la industria y que les pudieran servir para mejorar la calidad de la imagen.\n",
    "\n",
    "Vamos allá."
   ]
  },
  {
   "cell_type": "markdown",
   "id": "d105c1ff",
   "metadata": {},
   "source": [
    "Como siempre, vamos a comenzar importando las librerías necesarias para trabajar."
   ]
  },
  {
   "cell_type": "code",
   "execution_count": null,
   "id": "f32af576",
   "metadata": {},
   "outputs": [],
   "source": [
    "# Importar las librerias\n",
    "import cv2\n",
    "import numpy as np\n",
    "import matplotlib.pyplot as plt\n",
    "import os"
   ]
  },
  {
   "cell_type": "markdown",
   "id": "b9a23e11",
   "metadata": {},
   "source": [
    "Para fines prácticos vamos a definir cada filtro en una función."
   ]
  },
  {
   "cell_type": "code",
   "execution_count": null,
   "id": "e9b5b946",
   "metadata": {},
   "outputs": [],
   "source": [
    "# Función para el filtro sal-pimienta (salt & peper)\n",
    "def add_salt_pepper_noise(image, salt_prob, pepper_prob):\n",
    "    noisy = np.copy(image)\n",
    "    total_pixels = image.size\n",
    "\n",
    "    # Agregamos sal, ruido blanco (salt)\n",
    "    num_salt = np.ceil(salt_prob * total_pixels)\n",
    "    coords = [np.random.randint(0, i - 1, int(num_salt)) for i in image.shape[:2]]\n",
    "    noisy[coords[0], coords[1]] = 255\n",
    "\n",
    "    # Agregamos pimienta, ruido negro (pepper)\n",
    "    num_peper = np.ceil(pepper_prob * total_pixels)\n",
    "    coords = [np.random.randint(0, i - 1, int(num_peper)) for i in image.shape[:2]]\n",
    "    noisy[coords[0], coords[1]] = 0\n",
    "\n",
    "    return noisy\n",
    "\n",
    "# Creo que el blurring lo dejamos aparte porque son varios tipos\n",
    "# Filtro de desenfoque (Blur)\n",
    "# def blur(image, kernel = (5,5)):\n",
    "    # blurred_image = cv2.GaussianBlur(image, kernel, 0)\n",
    "\n",
    "# Filtro de afilado\n",
    "def sharpen(image, kernel= np.array([[0, -1, 0], [-1, 5, -1], [0, -1, 0]])):\n",
    "    sharpened_image = cv2.filter2D(image, -1, kernel)\n",
    "\n",
    "    return sharpened_image\n",
    "\n",
    "# Filtro de erorsión\n",
    "def erode(image, kernel= np.ones((3, 3), np.uint8), iterations = 1):\n",
    "    eroded_image = cv2.erode(image, kernel, iterations)\n",
    "\n",
    "    return eroded_image\n",
    "\n",
    "# Filtro de dilatación (lo contrario de la erosión)\n",
    "def dilate(image, kernel=np.ones((5,5), np.uint8), iterations=1):\n",
    "    dilated = cv2.dilate(image, kernel, iterations)\n",
    "    \n",
    "    return dilated\n",
    "\n",
    "# Filtro de apertura (opening), el opening es la suma del filtro de erosión seguida de la dilatación\n",
    "def opening(image, kernel=np.ones((3,3), np.uint8)):\n",
    "    opened_image = cv2.morphologyEx(image, cv2.MORPH_OPEN, kernel)\n",
    "\n",
    "    return opened_image"
   ]
  },
  {
   "cell_type": "markdown",
   "id": "396de69f",
   "metadata": {},
   "source": [
    "En esta función definimos el ruido sal-pimienta (*salt & pepper*), que aunque si se trata de un filtro, es más un herramienta para añadir ruido a la imagen de una manera aleatoria."
   ]
  },
  {
   "cell_type": "code",
   "execution_count": null,
   "id": "77639b38",
   "metadata": {},
   "outputs": [],
   "source": [
    "# Cargar la imagen desde disco y pasarla a escala de grises\n",
    "# path = 'C:\\Users\\theki\\Documents\\Codes\\ICASAT2025_CVCourse\\Practicas\\Filtering\\peppers.jpg' # ruta a la imagen desde su computadora\n",
    "path = 'peppers.jpg'\n",
    "image = cv2.imread(path)"
   ]
  },
  {
   "cell_type": "code",
   "execution_count": null,
   "id": "6f22b525",
   "metadata": {},
   "outputs": [],
   "source": [
    "# Aplicamos los filtros a la misma imagen y graficamos original vs filtros\n",
    "sharpened = sharpen(image) # afilado\n",
    "dilated = dilate(image) # dilatación\n",
    "eroded = erode(image) # erosión\n",
    "opened = opening(image) # apertura\n",
    "noisy = add_salt_pepper_noise(image, 0.02, 0.02) # sal-pimienta\n",
    "\n",
    "titles = ['Original', 'Sharpen', 'Salt & Pepper', 'Opening', 'Dilation', 'Erosion'] # Titulos para la grafica\n",
    "images = [image, sharpened, noisy, opened, dilated, eroded]\n",
    "\n",
    "# Definir figura en plt\n",
    "plt.figure(figsize=(12, 8), dpi=200)\n",
    "for i in range(6):\n",
    "    plt.subplot(2, 3, i+1)\n",
    "    plt.imshow(images[i], cmap='gray')\n",
    "    plt.title(titles[i])\n",
    "    plt.axis('off')\n",
    "plt.tight_layout()\n",
    "plt.show()"
   ]
  },
  {
   "cell_type": "code",
   "execution_count": null,
   "id": "98237fb4",
   "metadata": {},
   "outputs": [],
   "source": []
  },
  {
   "cell_type": "code",
   "execution_count": null,
   "id": "61198c4c",
   "metadata": {},
   "outputs": [],
   "source": []
  },
  {
   "cell_type": "code",
   "execution_count": null,
   "id": "97da2a27",
   "metadata": {},
   "outputs": [],
   "source": []
  },
  {
   "cell_type": "code",
   "execution_count": null,
   "id": "3eac13c0",
   "metadata": {},
   "outputs": [],
   "source": []
  },
  {
   "cell_type": "code",
   "execution_count": null,
   "id": "df70faa9",
   "metadata": {},
   "outputs": [],
   "source": []
  },
  {
   "cell_type": "code",
   "execution_count": null,
   "id": "002b3180",
   "metadata": {},
   "outputs": [],
   "source": []
  },
  {
   "cell_type": "code",
   "execution_count": null,
   "id": "0b80e1a8",
   "metadata": {},
   "outputs": [],
   "source": []
  },
  {
   "cell_type": "code",
   "execution_count": null,
   "id": "c5fddf74",
   "metadata": {},
   "outputs": [],
   "source": []
  },
  {
   "cell_type": "code",
   "execution_count": null,
   "id": "8ba91218",
   "metadata": {},
   "outputs": [],
   "source": []
  },
  {
   "cell_type": "code",
   "execution_count": null,
   "id": "0b12fce5",
   "metadata": {},
   "outputs": [],
   "source": []
  },
  {
   "cell_type": "code",
   "execution_count": null,
   "id": "c047ccea",
   "metadata": {},
   "outputs": [],
   "source": []
  },
  {
   "cell_type": "code",
   "execution_count": null,
   "id": "cf38f9ad",
   "metadata": {},
   "outputs": [],
   "source": []
  }
 ],
 "metadata": {
  "language_info": {
   "name": "python"
  }
 },
 "nbformat": 4,
 "nbformat_minor": 5
}

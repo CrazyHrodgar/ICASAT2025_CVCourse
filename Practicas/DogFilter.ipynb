{
 "cells": [
  {
   "cell_type": "markdown",
   "id": "60d18d8a",
   "metadata": {},
   "source": [
    "# Filtro en tiempo real al estilo de Snapchat con OpenCV"
   ]
  },
  {
   "cell_type": "markdown",
   "id": "0e3ee281",
   "metadata": {},
   "source": [
    "En esta práctica vas a crear un filtro en tiempo real que añade orejas y nariz de perrito sobre tu cara, usando Python y OpenCV. Aprenderás a:\n",
    "- Cargar y usar un clasificador Haar Cascade para detección de rostros.\n",
    "- Leer un gráfico PNG con canal alfa (transparencia) como overlay.\n",
    "- Redimensionar y posicionar el overlay según la detección de la cara.\n",
    "- Mezclar (blend) el overlay PNG sobre cada frame de vídeo de la cámara."
   ]
  },
  {
   "cell_type": "markdown",
   "id": "9b2dde7c",
   "metadata": {},
   "source": [
    "Como lo hemos hecho a lo largo del curso, comenzamos con importar las librerías necesarias."
   ]
  },
  {
   "cell_type": "code",
   "execution_count": 1,
   "id": "e50727a6",
   "metadata": {},
   "outputs": [],
   "source": [
    "import cv2\n",
    "import numpy as np"
   ]
  },
  {
   "cell_type": "markdown",
   "id": "95df0eb1",
   "metadata": {},
   "source": [
    "Para esta práctica usaremos una herramienta para detectar rostros llamado `Haar Cascade`"
   ]
  },
  {
   "cell_type": "markdown",
   "id": "d607c284",
   "metadata": {},
   "source": [
    "Si por alguna extraña razón no les abre el clasificador Haar, pueden buscarlo y descargarlo en este [enlace](https://github.com/npinto/opencv/blob/master/data/haarcascades/haarcascade_frontalface_default.xml).\n",
    "Solo deben asegurarse de que el archivo `.xml` se encuentre en el mismo directorio de trabajo que este cuaderno."
   ]
  },
  {
   "cell_type": "code",
   "execution_count": 2,
   "id": "b93805df",
   "metadata": {},
   "outputs": [],
   "source": [
    "# Cargamos el clasificador Haar Cascade para detección de rostros\n",
    "face_cascade = cv2.CascadeClassifier('haarcascade_frontalface_default.xml')"
   ]
  },
  {
   "cell_type": "code",
   "execution_count": 3,
   "id": "35a96eab",
   "metadata": {},
   "outputs": [],
   "source": [
    "# Cargamos el overlay de orejas y nariz de perro en formato png\n",
    "# Si quieren usar otro overlay asegurense de que tenga un canal alpha (el png sea transparente, sin fondo)\n",
    "dog_filter_png = cv2.imread('dog_face_full.png', cv2.IMREAD_UNCHANGED)"
   ]
  },
  {
   "cell_type": "markdown",
   "id": "b1e3f428",
   "metadata": {},
   "source": [
    "Ahora vamos a crear una función para superponer el *overlay* sobre la imagen de nuestro rostro.\n",
    "\n",
    "La función auxiliar tomará un frame BGR y el *overlay* en RGBA, mezclará estas dos imágenes en la posición deseada usando el canal *alpha* de la imagen."
   ]
  },
  {
   "cell_type": "code",
   "execution_count": 4,
   "id": "ca214b2e",
   "metadata": {},
   "outputs": [],
   "source": [
    "# Función para overlay con canal alfa\n",
    "\n",
    "def overlay_png_alpha(frame, overlay_png, x, y, w, h):\n",
    "    \"\"\"\n",
    "    Superpone overlay_png (con canal alfa) en frame BGR.\n",
    "    - frame: imagen destino (BGR)\n",
    "    - overlay_png: imagen fuente (BGRA)\n",
    "    - (x, y): esquina superior izquierda donde colocar el overlay\n",
    "    - (w, h): tamaño al que redimensionar el overlay\n",
    "    \"\"\"\n",
    "    # Redimensionar overlay al tamaño deseado\n",
    "    overlay_resized = cv2.resize(overlay_png, (w, h), interpolation=cv2.INTER_AREA)\n",
    "    \n",
    "    # Separar canales BGR y alpha\n",
    "    b, g, r, a = cv2.split(overlay_resized)\n",
    "    overlay_rgb = cv2.merge((b, g, r))\n",
    "    mask = cv2.cvtColor(a, cv2.COLOR_GRAY2BGR) / 255.0  # Normalizar alpha [0,1]\n",
    "    \n",
    "    # Región de interés en el frame\n",
    "    roi = frame[y:y+h, x:x+w].astype(float) / 255.0\n",
    "    \n",
    "    # Mezclar: out = alpha*overlay + (1-alpha)*fondo\n",
    "    blended = (mask * overlay_rgb.astype(float) / 255.0) + ((1 - mask) * roi)\n",
    "    frame[y:y+h, x:x+w] = np.uint8(blended * 255)\n"
   ]
  },
  {
   "cell_type": "markdown",
   "id": "7031830b",
   "metadata": {},
   "source": [
    "Ya con nuestra función definida, ahora vamos a repetir los pasos para inicializar la cámara y leemos las imágenes en un bucle infinito, es decir, la captura de video con OpenCV. Además de capturar video, ahora estaremos detectando rostros y aparte aplicando el filtro sobre la imagen.\n",
    "\n",
    "Nota: el desempeño del filtro dependerá enteramente de las capacidades de su computadora ya que el procesamiento del video es una tarea bastante compleja, computacionalmente hablando."
   ]
  },
  {
   "cell_type": "code",
   "execution_count": null,
   "id": "b77a831f",
   "metadata": {},
   "outputs": [
    {
     "ename": "ValueError",
     "evalue": "operands could not be broadcast together with shapes (111,222,3) (0,222,3) ",
     "output_type": "error",
     "traceback": [
      "\u001b[1;31m---------------------------------------------------------------------------\u001b[0m",
      "\u001b[1;31mValueError\u001b[0m                                Traceback (most recent call last)",
      "\u001b[1;32m<ipython-input-5-c27df519557d>\u001b[0m in \u001b[0;36m<module>\u001b[1;34m\u001b[0m\n\u001b[0;32m     31\u001b[0m \u001b[1;33m\u001b[0m\u001b[0m\n\u001b[0;32m     32\u001b[0m         \u001b[1;31m# Colocar las orejas\u001b[0m\u001b[1;33m\u001b[0m\u001b[1;33m\u001b[0m\u001b[1;33m\u001b[0m\u001b[0m\n\u001b[1;32m---> 33\u001b[1;33m         \u001b[0moverlay_png_alpha\u001b[0m\u001b[1;33m(\u001b[0m\u001b[0mframe\u001b[0m\u001b[1;33m,\u001b[0m \u001b[0mdog_filter_png\u001b[0m\u001b[1;33m,\u001b[0m \u001b[0mears_x\u001b[0m\u001b[1;33m,\u001b[0m \u001b[0mears_y\u001b[0m\u001b[1;33m,\u001b[0m \u001b[0mears_w\u001b[0m\u001b[1;33m,\u001b[0m \u001b[0mears_h\u001b[0m\u001b[1;33m)\u001b[0m\u001b[1;33m\u001b[0m\u001b[1;33m\u001b[0m\u001b[0m\n\u001b[0m\u001b[0;32m     34\u001b[0m \u001b[1;33m\u001b[0m\u001b[0m\n\u001b[0;32m     35\u001b[0m         \u001b[1;31m# # Por si quieren colocar la nariz centrada en la parte inferior de la cara\u001b[0m\u001b[1;33m\u001b[0m\u001b[1;33m\u001b[0m\u001b[1;33m\u001b[0m\u001b[0m\n",
      "\u001b[1;32m<ipython-input-4-a8d70c63151a>\u001b[0m in \u001b[0;36moverlay_png_alpha\u001b[1;34m(frame, overlay_png, x, y, w, h)\u001b[0m\n\u001b[0;32m     21\u001b[0m \u001b[1;33m\u001b[0m\u001b[0m\n\u001b[0;32m     22\u001b[0m     \u001b[1;31m# Mezclar: out = alpha*overlay + (1-alpha)*fondo\u001b[0m\u001b[1;33m\u001b[0m\u001b[1;33m\u001b[0m\u001b[1;33m\u001b[0m\u001b[0m\n\u001b[1;32m---> 23\u001b[1;33m     \u001b[0mblended\u001b[0m \u001b[1;33m=\u001b[0m \u001b[1;33m(\u001b[0m\u001b[0mmask\u001b[0m \u001b[1;33m*\u001b[0m \u001b[0moverlay_rgb\u001b[0m\u001b[1;33m.\u001b[0m\u001b[0mastype\u001b[0m\u001b[1;33m(\u001b[0m\u001b[0mfloat\u001b[0m\u001b[1;33m)\u001b[0m \u001b[1;33m/\u001b[0m \u001b[1;36m255.0\u001b[0m\u001b[1;33m)\u001b[0m \u001b[1;33m+\u001b[0m \u001b[1;33m(\u001b[0m\u001b[1;33m(\u001b[0m\u001b[1;36m1\u001b[0m \u001b[1;33m-\u001b[0m \u001b[0mmask\u001b[0m\u001b[1;33m)\u001b[0m \u001b[1;33m*\u001b[0m \u001b[0mroi\u001b[0m\u001b[1;33m)\u001b[0m\u001b[1;33m\u001b[0m\u001b[1;33m\u001b[0m\u001b[0m\n\u001b[0m\u001b[0;32m     24\u001b[0m     \u001b[0mframe\u001b[0m\u001b[1;33m[\u001b[0m\u001b[0my\u001b[0m\u001b[1;33m:\u001b[0m\u001b[0my\u001b[0m\u001b[1;33m+\u001b[0m\u001b[0mh\u001b[0m\u001b[1;33m,\u001b[0m \u001b[0mx\u001b[0m\u001b[1;33m:\u001b[0m\u001b[0mx\u001b[0m\u001b[1;33m+\u001b[0m\u001b[0mw\u001b[0m\u001b[1;33m]\u001b[0m \u001b[1;33m=\u001b[0m \u001b[0mnp\u001b[0m\u001b[1;33m.\u001b[0m\u001b[0muint8\u001b[0m\u001b[1;33m(\u001b[0m\u001b[0mblended\u001b[0m \u001b[1;33m*\u001b[0m \u001b[1;36m255\u001b[0m\u001b[1;33m)\u001b[0m\u001b[1;33m\u001b[0m\u001b[1;33m\u001b[0m\u001b[0m\n",
      "\u001b[1;31mValueError\u001b[0m: operands could not be broadcast together with shapes (111,222,3) (0,222,3) "
     ]
    },
    {
     "ename": "",
     "evalue": "",
     "output_type": "error",
     "traceback": [
      "\u001b[1;31mThe Kernel crashed while executing code in the current cell or a previous cell. \n",
      "\u001b[1;31mPlease review the code in the cell(s) to identify a possible cause of the failure. \n",
      "\u001b[1;31mClick <a href='https://aka.ms/vscodeJupyterKernelCrash'>here</a> for more info. \n",
      "\u001b[1;31mView Jupyter <a href='command:jupyter.viewOutput'>log</a> for further details."
     ]
    }
   ],
   "source": [
    "# Capturar el video y aplicar el filtro\n",
    "cap = cv2.VideoCapture(0) # Cambiar el puerto de la cámara en caso de ser necesario\n",
    "\n",
    "if not cap.isOpened():\n",
    "    raise IOError(\"No se puede acceder a la cámara\")\n",
    "\n",
    "# Bucle infinito\n",
    "while True:\n",
    "    ret, frame = cap.read()\n",
    "    if not ret:\n",
    "        break\n",
    "\n",
    "    # Convertir a escala de grises para realizar una detección más rápida\n",
    "    gray = cv2.cvtColor(frame, cv2.COLOR_BGR2GRAY)\n",
    "    \n",
    "    # Detectar todos los rostros dentro del frame\n",
    "    faces = face_cascade.detectMultiScale(\n",
    "        gray,\n",
    "        scaleFactor = 1.1,\n",
    "        minNeighbors = 5,\n",
    "        minSize = (100,100)\n",
    "    )\n",
    "\n",
    "    # Para cada rostro detectado, colocar el overlay\n",
    "    for (x,y,w,h) in faces:\n",
    "        # Pueden ajustar la posición y tamaño de las orejas si es necesario\n",
    "        ears_w = int(w * 1.2) # Ancho de las orejas\n",
    "        ears_h = int(h * 0.6) # Alto de las orejas\n",
    "        ears_x = x - (ears_w - w) // 2 # Posición en el eje x de las orejas\n",
    "        ears_y = y - int(h * 0.5) # Posición en el eje y de las orejas\n",
    "\n",
    "        # Colocar las orejas\n",
    "        overlay_png_alpha(frame, dog_filter_png, ears_x, ears_y, ears_w, ears_h)\n",
    "\n",
    "        # # Por si quieren colocar la nariz centrada en la parte inferior de la cara\n",
    "        # nose_w = int(w * 0.4)\n",
    "        # nose_h = int(h * 0.3)\n",
    "        # nose_x = x + (w - nose_w) // 2\n",
    "        # nose_y = y + int(h * 0.55)\n",
    "        # overlay_png_alpha(frame, dog_filter_png, nose_x, nose_y, nose_w, nose_h)\n",
    "\n",
    "    # Mostrar el resultado en pantalla\n",
    "    cv2.imshow('Filtro de perrito', frame)\n",
    "\n",
    "    # Salir si presionamos la tecla 'q'\n",
    "    if cv2.waitKey(1) & 0xFF == ord('q'):\n",
    "        break\n",
    "\n",
    "# Liberar los recursos\n",
    "cap.release()\n",
    "cv2.destroyAllWindows()"
   ]
  },
  {
   "cell_type": "code",
   "execution_count": null,
   "id": "0d544df4",
   "metadata": {},
   "outputs": [],
   "source": []
  },
  {
   "cell_type": "code",
   "execution_count": null,
   "id": "451dff00",
   "metadata": {},
   "outputs": [],
   "source": []
  },
  {
   "cell_type": "code",
   "execution_count": null,
   "id": "83160fa5",
   "metadata": {},
   "outputs": [],
   "source": []
  },
  {
   "cell_type": "code",
   "execution_count": null,
   "id": "7cbc1e13",
   "metadata": {},
   "outputs": [],
   "source": []
  },
  {
   "cell_type": "markdown",
   "id": "2fb4bec1",
   "metadata": {},
   "source": [
    "# Comentarios y extensiones posibles\n",
    "\n",
    "- Ajustar los factores de escala (`ears_w`, `ears_h`, `nose_w`, `nose_h`) para distintos tamaños de cara.\n",
    "- Usar un detector basado en landmarks (dlib, mediapipe) para situar con precisión ojos, nariz, boca.\n",
    "- Añadir animaciones: parpadeo de ojos, movimiento de lengua.\n",
    "- Reemplazar el PNG por otros filtros: gafas, sombreros, máscaras, etc.\n",
    "- Experimentar con blending más suave (gaussian blur en la máscara alfa).\n"
   ]
  }
 ],
 "metadata": {
  "kernelspec": {
   "display_name": "tensorflow1",
   "language": "python",
   "name": "python3"
  },
  "language_info": {
   "codemirror_mode": {
    "name": "ipython",
    "version": 3
   },
   "file_extension": ".py",
   "mimetype": "text/x-python",
   "name": "python",
   "nbconvert_exporter": "python",
   "pygments_lexer": "ipython3",
   "version": "3.8.5"
  }
 },
 "nbformat": 4,
 "nbformat_minor": 5
}

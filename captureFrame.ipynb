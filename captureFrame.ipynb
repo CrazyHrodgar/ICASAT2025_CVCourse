{
 "cells": [
  {
   "cell_type": "markdown",
   "id": "4b94cc1d",
   "metadata": {},
   "source": [
    "# Practica 1: Capturar imágenes con OpenCV y Python"
   ]
  },
  {
   "cell_type": "markdown",
   "id": "921032d5",
   "metadata": {},
   "source": [
    "En esta práctica veremos el proceso de capturar imágenes con OpenCV a través de Python.\n",
    "\n",
    "El primer paso para cualquier aplicación de **Visión por Computadora** es la captura de imágenes. Como hemos visto durante el curso, las imágenes se pueden leer desde nuestra computadora, aunque, para hacer nuestras aplicaciones más robustas, debemos ser capaces de tomar las imágenes cuando lo necesitemos.\n",
    "\n",
    "Para esta práctica necesitaremos una cámara web, puedes usar la que trae tu computadora aunque recomendamos que sea con una cámara web externa."
   ]
  },
  {
   "cell_type": "code",
   "execution_count": 2,
   "id": "0e7e76c8",
   "metadata": {},
   "outputs": [],
   "source": [
    "# Importar las librerías necesarias\n",
    "import cv2 as cv \n",
    "import numpy as np\n",
    "import matplotlib.pyplot as plt\n",
    "import io\n",
    "import datetime\n",
    "import os"
   ]
  },
  {
   "cell_type": "markdown",
   "id": "331eca25",
   "metadata": {},
   "source": [
    "El primer paso es iniciar la camara a través de OpenCV con el comando `VideoCapture()`. El número dentro del paréntesis indica qué cámara usaremos. El valor por defecto es $0$. En caso de tener más cámaras deberás buscar el número de puerto serial de la cámara que necesites."
   ]
  },
  {
   "cell_type": "code",
   "execution_count": 3,
   "id": "86a56258",
   "metadata": {},
   "outputs": [],
   "source": [
    "# Inicializar la cámara\n",
    "cap = cv.VideoCapture(0)\n",
    "\n",
    "# Verificamos que la cámara se haya iniciado correcatmente\n",
    "assert cap.isOpened() == True, \"La cámara no está disponible.\""
   ]
  },
  {
   "cell_type": "code",
   "execution_count": 4,
   "id": "e54d6e60",
   "metadata": {},
   "outputs": [],
   "source": [
    "# Si quieren que las imágenes se guarden en un carpeta exclusiva\n",
    "save_dir = 'captured_images'\n",
    "# # Crea el directorio en caso de que no exista\n",
    "os.makedirs(save_dir, exist_ok=True)"
   ]
  },
  {
   "cell_type": "markdown",
   "id": "6efc14f3",
   "metadata": {},
   "source": [
    "La idea detrtás de la siguiente celda es capturar un *frame* (o cuadro) y repetir indefinidamente el proceso de captura, es decir, una captura continua de frames formarán un video. Cuando nos interese capturar un *frame* lo haremos a través del teclado."
   ]
  },
  {
   "cell_type": "code",
   "execution_count": 5,
   "id": "d941abeb",
   "metadata": {},
   "outputs": [
    {
     "name": "stdout",
     "output_type": "stream",
     "text": [
      "Imagen capturada! Presiona 's' para guardar o 'c' para volver a capturar\n",
      "Imagen capturada! Presiona 's' para guardar o 'c' para volver a capturar\n"
     ]
    }
   ],
   "source": [
    "window_name = \"Camara\" # Nombre de la ventana\n",
    "captured_image = None # Variable bandera\n",
    "\n",
    "# Definir el nombre de la ventana donde se desplegarán las imágenes\n",
    "cv.namedWindow(window_name, cv.WINDOW_AUTOSIZE)\n",
    "\n",
    "# Bucle infinito para capturar frames\n",
    "while True:\n",
    "    # Capturar cuadro por cuadro\n",
    "    ret, frame = cap.read()\n",
    "\n",
    "    if not ret:\n",
    "        print('Error: No se pueden leer los cuadros')\n",
    "        break\n",
    "\n",
    "    # Mostrar el video capturado\n",
    "    cv.imshow(window_name, frame)\n",
    "\n",
    "    # Revisar si hay interrupciones del teclado\n",
    "    key = cv.waitKey(1) & 0xFF\n",
    "\n",
    "    # Capturar imagenes cuando se presione la tecla 'c'\n",
    "    if key == ord('c'):\n",
    "        captured_image = frame.copy()\n",
    "        print(\"Imagen capturada! Presiona 's' para guardar o 'c' para volver a capturar\")\n",
    "\n",
    "        # Mostrar la imagen capturada\n",
    "        cv.imshow(\"Imagen\", captured_image)\n",
    "\n",
    "    # Guardar la imagen si se presiona la tecla 's'\n",
    "    elif key == ord('s') and captured_image is not None:\n",
    "        # Generamos una estampa de tiempo para guardar  la imagen\n",
    "        timestamp = datetime.datetime.now().strftime(\"%Y%m%d_%H%M%S\")\n",
    "        filename = f\"{save_dir}/image_{timestamp}.jpg\"\n",
    "\n",
    "        # Guardar la imagen\n",
    "        cv.imwrite(filename, captured_image)\n",
    "        print(f\"Imagen guardada como: {filename}\")\n",
    "\n",
    "        # Cerrar la ventana de la imagen\n",
    "        cv.destroyWindow(\"Imagen\")\n",
    "        captured_image = None \n",
    "    elif key == ord('q'):\n",
    "        break"
   ]
  },
  {
   "cell_type": "markdown",
   "id": "881c0bda",
   "metadata": {},
   "source": [
    "Es importante cerrar el uso de la cámara, de lo contrario, OpenCV continuará utlizando (y reservando) la cámara y no permitirá utilizar para otro tipo de aplicaciones."
   ]
  },
  {
   "cell_type": "markdown",
   "id": "a0826257",
   "metadata": {},
   "source": [
    "Con la captura de frames podemos ajustar a lo que necesitemos. Por ejemplo, podemos ajustar el programa para que tome una imagen cada cierto tiempo o cada que detecte un objeto, entre otras.\n",
    "\n",
    "Recuerden que el proceso de captura se realiza dentro del ciclo *while* que se repite de manera infinita. Cualquier procesamiento, operaciones en las imágenes o mejora debe ser dentro del ciclo *while*."
   ]
  },
  {
   "cell_type": "code",
   "execution_count": 6,
   "id": "fd5a6548",
   "metadata": {},
   "outputs": [],
   "source": [
    "# Liberar la cámara y cerrar todas las ventanas\n",
    "cap.release()\n",
    "cv.destroyAllWindows()"
   ]
  },
  {
   "cell_type": "code",
   "execution_count": 7,
   "id": "9f09928f",
   "metadata": {},
   "outputs": [],
   "source": [
    "assert cap.isOpened() == False, \"Camara aun conectada\""
   ]
  },
  {
   "cell_type": "code",
   "execution_count": null,
   "id": "7b6ac42c",
   "metadata": {},
   "outputs": [],
   "source": []
  },
  {
   "cell_type": "code",
   "execution_count": null,
   "id": "aa17dd4d",
   "metadata": {},
   "outputs": [],
   "source": []
  }
 ],
 "metadata": {
  "kernelspec": {
   "display_name": "tensorflow1",
   "language": "python",
   "name": "python3"
  },
  "language_info": {
   "codemirror_mode": {
    "name": "ipython",
    "version": 3
   },
   "file_extension": ".py",
   "mimetype": "text/x-python",
   "name": "python",
   "nbconvert_exporter": "python",
   "pygments_lexer": "ipython3",
   "version": "3.8.5"
  }
 },
 "nbformat": 4,
 "nbformat_minor": 5
}
